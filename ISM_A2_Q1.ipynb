{
 "cells": [
  {
   "cell_type": "code",
   "execution_count": 2,
   "metadata": {},
   "outputs": [
    {
     "data": {
      "text/plain": [
       "'/Users/gayatri'"
      ]
     },
     "execution_count": 2,
     "metadata": {},
     "output_type": "execute_result"
    }
   ],
   "source": [
    "pwd"
   ]
  },
  {
   "cell_type": "code",
   "execution_count": 3,
   "metadata": {},
   "outputs": [
    {
     "name": "stdout",
     "output_type": "stream",
     "text": [
      "Collecting numpy\n",
      "  Downloading numpy-1.18.3-cp37-cp37m-macosx_10_9_x86_64.whl (15.1 MB)\n",
      "\u001b[K     |████████████████████████████████| 15.1 MB 681 kB/s eta 0:00:01    |████████▎                       | 3.9 MB 959 kB/s eta 0:00:12\n",
      "\u001b[?25hInstalling collected packages: numpy\n",
      "Successfully installed numpy-1.18.3\n"
     ]
    }
   ],
   "source": [
    "import sys\n",
    "!{sys.executable} -m pip install numpy"
   ]
  },
  {
   "cell_type": "code",
   "execution_count": 4,
   "metadata": {},
   "outputs": [
    {
     "name": "stdout",
     "output_type": "stream",
     "text": [
      "Collecting matplotlib\n",
      "  Downloading matplotlib-3.2.1-cp37-cp37m-macosx_10_9_x86_64.whl (12.4 MB)\n",
      "\u001b[K     |████████████████████████████████| 12.4 MB 1.1 MB/s eta 0:00:01\n",
      "\u001b[?25hRequirement already satisfied: numpy>=1.11 in /usr/local/lib/python3.7/site-packages (from matplotlib) (1.18.3)\n",
      "Collecting cycler>=0.10\n",
      "  Downloading cycler-0.10.0-py2.py3-none-any.whl (6.5 kB)\n",
      "Collecting kiwisolver>=1.0.1\n",
      "  Downloading kiwisolver-1.2.0-cp37-cp37m-macosx_10_9_x86_64.whl (60 kB)\n",
      "\u001b[K     |████████████████████████████████| 60 kB 1.2 MB/s eta 0:00:01\n",
      "\u001b[?25hRequirement already satisfied: python-dateutil>=2.1 in /usr/local/lib/python3.7/site-packages (from matplotlib) (2.8.1)\n",
      "Collecting pyparsing!=2.0.4,!=2.1.2,!=2.1.6,>=2.0.1\n",
      "  Downloading pyparsing-2.4.7-py2.py3-none-any.whl (67 kB)\n",
      "\u001b[K     |████████████████████████████████| 67 kB 728 kB/s eta 0:00:01\n",
      "\u001b[?25hRequirement already satisfied: six in /usr/local/lib/python3.7/site-packages (from cycler>=0.10->matplotlib) (1.14.0)\n",
      "Installing collected packages: cycler, kiwisolver, pyparsing, matplotlib\n",
      "Successfully installed cycler-0.10.0 kiwisolver-1.2.0 matplotlib-3.2.1 pyparsing-2.4.7\n"
     ]
    }
   ],
   "source": [
    "import sys\n",
    "!{sys.executable} -m pip install matplotlib"
   ]
  },
  {
   "cell_type": "code",
   "execution_count": 5,
   "metadata": {},
   "outputs": [
    {
     "name": "stdout",
     "output_type": "stream",
     "text": [
      "\u001b[31mERROR: Could not find a version that satisfies the requirement math (from versions: none)\u001b[0m\r\n",
      "\u001b[31mERROR: No matching distribution found for math\u001b[0m\r\n"
     ]
    }
   ],
   "source": [
    "import sys\n",
    "!{sys.executable} -m pip install math"
   ]
  },
  {
   "cell_type": "code",
   "execution_count": 6,
   "metadata": {},
   "outputs": [],
   "source": [
    "import numpy as np\n",
    "import matplotlib.pyplot as plt"
   ]
  },
  {
   "cell_type": "code",
   "execution_count": 9,
   "metadata": {},
   "outputs": [
    {
     "data": {
      "text/plain": [
       "array([1.07948e+13, 6.47689e+13, 2.80665e+14, 1.14425e+15, 2.73325e+15,\n",
       "       4.79894e+15, 7.48434e+15, 1.09754e+16, 1.55137e+16, 2.14135e+16,\n",
       "       2.90833e+16, 3.90540e+16, 5.20160e+16, 6.88665e+16, 9.07721e+16,\n",
       "       1.19249e+17, 1.56270e+17, 2.04397e+17, 2.66962e+17, 3.48296e+17,\n",
       "       4.13981e+17, 4.55379e+17, 5.00916e+17, 5.51008e+17, 6.06109e+17,\n",
       "       6.66720e+17, 7.33392e+17, 8.06731e+17, 8.87404e+17, 9.76144e+17,\n",
       "       1.07376e+18, 1.18113e+18, 1.29925e+18, 1.42917e+18, 1.57209e+18,\n",
       "       1.72930e+18, 1.90223e+18, 2.09245e+18, 2.29593e+18, 2.50777e+18,\n",
       "       2.72808e+18, 2.95721e+18, 3.19549e+18, 3.44331e+18, 3.70105e+18,\n",
       "       3.96909e+18, 4.24785e+18, 4.53777e+18, 4.83928e+18, 5.15285e+18,\n",
       "       5.47896e+18, 5.78252e+18, 6.04347e+18, 6.32784e+18, 6.63917e+18,\n",
       "       6.91757e+18, 7.16569e+18, 7.44238e+18, 7.73722e+18, 7.98806e+18,\n",
       "       8.20504e+18, 8.44560e+18, 8.70198e+18, 8.91885e+18, 9.10355e+18,\n",
       "       9.26266e+18, 9.40384e+18, 9.53041e+18, 9.63003e+18, 9.70996e+18,\n",
       "       9.78040e+18, 9.84596e+18, 9.90592e+18, 9.95799e+18, 1.00018e+19,\n",
       "       1.00396e+19, 1.00736e+19, 1.01044e+19, 1.01314e+19, 1.01548e+19,\n",
       "       1.01755e+19, 1.01940e+19, 1.02109e+19, 1.02263e+19, 1.02404e+19,\n",
       "       1.02533e+19, 1.02655e+19, 1.02773e+19, 1.02908e+19, 1.03054e+19,\n",
       "       1.03188e+19, 1.03336e+19, 1.03529e+19, 1.03779e+19, 1.04105e+19,\n",
       "       1.04528e+19, 1.05079e+19, 1.05794e+19, 1.06724e+19, 1.07933e+19,\n",
       "       1.09172e+19, 1.09974e+19, 1.10388e+19, 1.10681e+19, 1.10966e+19,\n",
       "       1.11338e+19, 1.11821e+19, 1.12302e+19, 1.12673e+19, 1.13046e+19,\n",
       "       1.13460e+19, 1.13822e+19, 1.14134e+19, 1.14439e+19, 1.14722e+19,\n",
       "       1.14956e+19, 1.15138e+19, 1.15268e+19, 1.15356e+19, 1.15444e+19,\n",
       "       1.15540e+19, 1.15623e+19, 1.15694e+19, 1.15759e+19, 1.15814e+19,\n",
       "       1.15861e+19, 1.15896e+19, 1.15923e+19, 1.15945e+19, 1.15966e+19,\n",
       "       1.15985e+19, 1.16003e+19, 1.16019e+19, 1.16033e+19, 1.16047e+19,\n",
       "       1.16058e+19, 1.16065e+19, 1.16073e+19, 1.16081e+19, 1.16090e+19,\n",
       "       1.16098e+19, 1.16106e+19, 1.16114e+19, 1.16122e+19, 1.16130e+19,\n",
       "       1.16138e+19, 1.16146e+19, 1.16154e+19, 1.16161e+19, 1.16169e+19,\n",
       "       1.16176e+19, 1.16184e+19, 1.16191e+19, 1.16199e+19, 1.16206e+19,\n",
       "       1.16213e+19, 1.16220e+19, 1.16228e+19, 1.16235e+19, 1.16241e+19,\n",
       "       1.16248e+19, 1.16255e+19, 1.16261e+19, 1.16268e+19, 1.16274e+19,\n",
       "       1.16280e+19, 1.16286e+19, 1.16292e+19, 1.16298e+19, 1.16304e+19,\n",
       "       1.16310e+19, 1.16316e+19, 1.16321e+19, 1.16327e+19, 1.16332e+19,\n",
       "       1.16338e+19, 1.16343e+19, 1.16348e+19, 1.16353e+19, 1.16358e+19,\n",
       "       1.16363e+19, 1.16368e+19, 1.16372e+19, 1.16376e+19, 1.16380e+19,\n",
       "       1.16384e+19, 1.16388e+19, 1.16391e+19, 1.16394e+19, 1.16397e+19,\n",
       "       1.16399e+19, 1.16401e+19, 1.16403e+19, 1.16405e+19, 1.16407e+19,\n",
       "       1.16408e+19, 1.16409e+19, 1.16410e+19, 1.16411e+19, 1.16413e+19,\n",
       "       1.16414e+19, 1.16415e+19, 1.16416e+19, 1.16417e+19, 1.16418e+19,\n",
       "       1.16420e+19, 1.16421e+19, 1.16422e+19, 1.16423e+19, 1.16424e+19,\n",
       "       1.16425e+19, 1.16427e+19, 1.16428e+19, 1.16429e+19, 1.16430e+19,\n",
       "       1.16431e+19, 1.16433e+19, 1.16434e+19, 1.16437e+19, 1.16439e+19,\n",
       "       1.16443e+19, 1.16448e+19, 1.16454e+19, 1.16460e+19, 1.16466e+19,\n",
       "       1.16472e+19, 1.16478e+19, 1.16483e+19, 1.16489e+19, 1.16495e+19,\n",
       "       1.16501e+19, 1.16506e+19, 1.16512e+19, 1.16518e+19, 1.16524e+19,\n",
       "       1.16530e+19, 1.16535e+19, 1.16541e+19, 1.16547e+19, 1.16553e+19,\n",
       "       1.16559e+19, 1.16564e+19, 1.16570e+19, 1.16576e+19, 1.16582e+19,\n",
       "       1.16588e+19, 1.16594e+19, 1.16599e+19, 1.16605e+19, 1.16611e+19,\n",
       "       1.16617e+19, 1.16623e+19, 1.16629e+19, 1.16635e+19, 1.16640e+19,\n",
       "       1.16646e+19, 1.16652e+19, 1.16658e+19, 1.16664e+19, 1.16670e+19,\n",
       "       1.16676e+19, 1.16682e+19, 1.16688e+19, 1.16694e+19, 1.16700e+19,\n",
       "       1.16706e+19, 1.16712e+19, 1.16718e+19, 1.16725e+19, 1.16731e+19,\n",
       "       1.16737e+19, 1.16743e+19, 1.16749e+19, 1.16756e+19, 1.16762e+19,\n",
       "       1.16768e+19, 1.16775e+19, 1.16781e+19, 1.16787e+19, 1.16794e+19,\n",
       "       1.16801e+19, 1.16807e+19, 1.16814e+19, 1.16821e+19, 1.16827e+19,\n",
       "       1.16834e+19, 1.16841e+19, 1.16848e+19, 1.16856e+19, 1.16863e+19,\n",
       "       1.16870e+19, 1.16878e+19, 1.16886e+19, 1.16894e+19, 1.16902e+19,\n",
       "       1.16911e+19, 1.16921e+19, 1.16931e+19, 1.16943e+19, 1.16956e+19,\n",
       "       1.16970e+19, 1.16985e+19, 1.17002e+19, 1.17021e+19, 1.17043e+19,\n",
       "       1.17068e+19, 1.17099e+19, 1.17136e+19])"
      ]
     },
     "execution_count": 9,
     "metadata": {},
     "output_type": "execute_result"
    }
   ],
   "source": [
    "depth=np.loadtxt('inputhii_dummy.ovr')[:,0]\n",
    "depth"
   ]
  },
  {
   "cell_type": "code",
   "execution_count": 18,
   "metadata": {},
   "outputs": [
    {
     "data": {
      "text/plain": [
       "Text(0, 0.5, 'ion-fraction')"
      ]
     },
     "execution_count": 18,
     "metadata": {},
     "output_type": "execute_result"
    },
    {
     "data": {
      "image/png": "[encoded data removed]",
      "text/plain": [
       "<Figure size 432x288 with 1 Axes>"
      ]
     },
     "metadata": {
      "needs_background": "light"
     },
     "output_type": "display_data"
    }
   ],
   "source": [
    "HI=np.loadtxt('inputhii_dummy.ovr')[:,6]\n",
    "HI\n",
    "\n",
    "#plt.plot(depth, HI) \n",
    "  \n",
    "# naming the x axis \n",
    "#plt.xlabel('depth') \n",
    "# naming the y axis \n",
    "#plt.ylabel('ion-fraction') "
   ]
  },
  {
   "cell_type": "code",
   "execution_count": 19,
   "metadata": {},
   "outputs": [
    {
     "data": {
      "text/plain": [
       "Text(0, 0.5, 'ion-fraction')"
      ]
     },
     "execution_count": 19,
     "metadata": {},
     "output_type": "execute_result"
    },
    {
     "data": {
      "image/png": "[encoded data removed]",
      "text/plain": [
       "<Figure size 432x288 with 1 Axes>"
      ]
     },
     "metadata": {
      "needs_background": "light"
     },
     "output_type": "display_data"
    }
   ],
   "source": [
    "HII=np.loadtxt('inputhii_dummy.ovr')[:,7]\n",
    "HII\n",
    "plt.plot(depth, HII) \n",
    "  \n",
    "# naming the x axis \n",
    "#plt.xlabel('depth') \n",
    "# naming the y axis \n",
    "#plt.ylabel('ion-fraction') "
   ]
  },
  {
   "cell_type": "code",
   "execution_count": 20,
   "metadata": {},
   "outputs": [
    {
     "data": {
      "text/plain": [
       "Text(0, 0.5, 'ion-fraction')"
      ]
     },
     "execution_count": 20,
     "metadata": {},
     "output_type": "execute_result"
    },
    {
     "data": {
      "image/png": "[encoded data removed]",
      "text/plain": [
       "<Figure size 432x288 with 1 Axes>"
      ]
     },
     "metadata": {
      "needs_background": "light"
     },
     "output_type": "display_data"
    }
   ],
   "source": [
    "HeI=np.loadtxt('inputhii_dummy.ovr')[:,8]\n",
    "HeI\n",
    "plt.plot(depth, HeI) \n",
    "  \n",
    "# naming the x axis \n",
    "#plt.xlabel('depth') \n",
    "# naming the y axis \n",
    "#plt.ylabel('ion-fraction')"
   ]
  },
  {
   "cell_type": "code",
   "execution_count": 21,
   "metadata": {},
   "outputs": [
    {
     "data": {
      "text/plain": [
       "Text(0, 0.5, 'ion-fraction')"
      ]
     },
     "execution_count": 21,
     "metadata": {},
     "output_type": "execute_result"
    },
    {
     "data": {
      "image/png": "[encoded data removed]",
      "text/plain": [
       "<Figure size 432x288 with 1 Axes>"
      ]
     },
     "metadata": {
      "needs_background": "light"
     },
     "output_type": "display_data"
    }
   ],
   "source": [
    "HeII=np.loadtxt('inputhii_dummy.ovr')[:,9]\n",
    "HeII\n",
    "plt.plot(depth, HeII) \n",
    "  \n",
    "# naming the x axis \n",
    "#plt.xlabel('depth') \n",
    "# naming the y axis \n",
    "#plt.ylabel('ion-fraction')"
   ]
  },
  {
   "cell_type": "code",
   "execution_count": 22,
   "metadata": {},
   "outputs": [
    {
     "data": {
      "text/plain": [
       "Text(0, 0.5, 'ion-fraction')"
      ]
     },
     "execution_count": 22,
     "metadata": {},
     "output_type": "execute_result"
    },
    {
     "data": {
      "image/png": "[encoded data removed]",
      "text/plain": [
       "<Figure size 432x288 with 1 Axes>"
      ]
     },
     "metadata": {
      "needs_background": "light"
     },
     "output_type": "display_data"
    }
   ],
   "source": [
    "HeIII=np.loadtxt('inputhii_dummy.ovr')[:,10]\n",
    "HeIII\n",
    "plt.plot(depth, HeIII) \n",
    "  \n",
    "# naming the x axis \n",
    "#plt.xlabel('depth') \n",
    "# naming the y axis \n",
    "#plt.ylabel('ion-fraction')"
   ]
  },
  {
   "cell_type": "code",
   "execution_count": 25,
   "metadata": {
    "scrolled": true
   },
   "outputs": [
    {
     "data": {
      "image/png": "[encoded data removed]",
      "text/plain": [
       "<Figure size 432x288 with 1 Axes>"
      ]
     },
     "metadata": {
      "needs_background": "light"
     },
     "output_type": "display_data"
    }
   ],
   "source": [
    "plt.plot(depth, HI, label = \"HI\")\n",
    "plt.plot(depth, HII, label = \"HII\")\n",
    "plt.plot(depth, HeI, label= \"HeI\")\n",
    "plt.plot(depth, HeII, label= \"HeII\")\n",
    "plt.plot(depth, HeIII, label = \"HeIII\")\n",
    "plt.xlabel('depth')\n",
    "plt.ylabel('ion-fraction')\n",
    "plt.title('Ion-fraction Vs depth (or radius) for the default model') \n",
    "plt.legend()\n",
    "plt.show() "
   ]
  },
  {
   "cell_type": "code",
   "execution_count": null,
   "metadata": {},
   "outputs": [],
   "source": []
  }
 ],
 "metadata": {
  "kernelspec": {
   "display_name": "Python 3",
   "language": "python",
   "name": "python3"
  },
  "language_info": {
   "codemirror_mode": {
    "name": "ipython",
    "version": 3
   },
   "file_extension": ".py",
   "mimetype": "text/x-python",
   "name": "python",
   "nbconvert_exporter": "python",
   "pygments_lexer": "ipython3",
   "version": "3.7.7"
  }
 },
 "nbformat": 4,
 "nbformat_minor": 4
}
