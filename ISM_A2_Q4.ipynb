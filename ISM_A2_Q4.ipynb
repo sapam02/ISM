{
 "cells": [
  {
   "cell_type": "code",
   "execution_count": 2,
   "metadata": {},
   "outputs": [
    {
     "data": {
      "text/plain": [
       "array([ 7924.2,  7922.6,  7918.6,  7908.3,  7900. ,  7892.6,  7884.9,\n",
       "        7876.6,  7867.6,  7857. ,  7846.2,  7833.6,  7820. ,  7805.4,\n",
       "        7789.8,  7774.6,  7759.4,  7748. ,  7734. ,  7725.9,  7712.9,\n",
       "        7713.1,  7702.1,  7701.3,  7697.4,  7695.8,  7687.4,  7684. ,\n",
       "        7675. ,  7670.4,  7659.5,  7654.3,  7641.4,  7629.3,  7616. ,\n",
       "        7601.1,  7583.6,  7564.4,  7542.6,  7520.6,  7497.3,  7473.6,\n",
       "        7449.3,  7425.2,  7401.4,  7378.4,  7357.3,  7338.4,  7323. ,\n",
       "        7312. ,  7307.2,  7303.7,  7307.3,  7325.5,  7350. ,  7380.8,\n",
       "        7418.6,  7472. ,  7541.3,  7615. ,  7690.8,  7783.3,  7901.1,\n",
       "        8024.2,  8140.2,  8253.4,  8361.4,  8469.2,  8564.7,  8634.9,\n",
       "        8711.3,  8781.7,  8844.2,  8900.5,  8954.1,  9001.4,  9041.3,\n",
       "        9074. ,  9107. ,  9137.3,  9156. ,  9177.5,  9194.1,  9204.9,\n",
       "        9210.8,  9213.1,  9209.3,  9200.5,  9185.2,  9158.7,  9129.8,\n",
       "        9097. ,  9073.1,  9055.9,  9058.9,  9079.8,  9116.5,  9168.8,\n",
       "        9241.7,  9342.8,  9464.1,  9555.7,  9606.8,  9641.3,  9674.2,\n",
       "        9718.3,  9773.8,  9835.2,  9880.6,  9925.9,  9980.2, 10014. ,\n",
       "       10045. , 10069. , 10076. , 10066. , 10041. , 10009. ,  9974.7,\n",
       "        9929.7,  9867.6,  9795.4,  9712.9,  9620.9,  9523.9,  9426.2,\n",
       "        9347.4,  9273.2,  9208.7,  9144.8,  9076.9,  9021.2,  8954.7,\n",
       "        8905.4,  8841.2,  8803.2,  8768.7,  8734.1,  8689. ,  8650.4,\n",
       "        8610.6,  8569.1,  8528.1,  8482.9,  8437.8,  8393. ,  8347.3,\n",
       "        8301.1,  8250.8,  8198.6,  8148.5,  8097.2,  8044.1,  7984. ,\n",
       "        7927. ,  7868.9,  7808.4,  7739.4,  7675.1,  7609.8,  7542.7,\n",
       "        7471.6,  7391.6,  7318.4,  7243.7,  7161.6,  7082.4,  6996.8,\n",
       "        6905.1,  6811.2,  6714.6,  6614.5,  6505. ,  6395.4,  6282. ,\n",
       "        6165.3,  6045.1,  5921.3,  5793. ,  5660.3,  5521.3,  5376.4,\n",
       "        5236.3,  5101.8,  4963. ,  4811.5,  4650.3,  4492.9,  4346.1,\n",
       "        4205.9,  4070.6,  3937.9,  3809.4,  3681.5,  3563.7,  3450.9,\n",
       "        3338.9,  3222.7,  3095.4,  2958.8,  2803.7,  2644.8,  2471.7,\n",
       "        2322.3,  2171.6,  2019.8,  1883.7,  1748.8,  1619.3,  1493.5,\n",
       "        1380.8,  1273.5,  1173.6,  1080.2,  1000. ,  1000. ,  1000. ,\n",
       "        1000. ,  1000. ,  1000. ,  1000. ,  1000. ,  1000. ,  1000. ,\n",
       "        1000. ,  1000. ,  1000. ,  1000. ,  1000. ,  1000. ,  1000. ,\n",
       "        1000. ,  1000. ,  1000. ,  1000. ,  1000. ,  1000. ,  1000. ,\n",
       "        1000. ,  1000. ,  1000. ,  1000. ,  1000. ,  1000. ,  1000. ,\n",
       "        1000. ,  1000. ,  1000. ,  1000. ,  1000. ,  1000. ,  1000. ,\n",
       "        1000. ,  1000. ,  1000. ,  1000. ,  1000. ,  1000. ,  1000. ,\n",
       "        1000. ,  1000. ,  1000. ,  1000. ,  1000. ,  1000. ,  1000. ,\n",
       "        1000. ,  1000. ,  1000. ,  1000. ,  1000. ,  1000. ,  1000. ,\n",
       "        1000. ,  1000. ,  1000. ,  1000. ,  1000. ,  1000. ,  1000. ,\n",
       "        1000. ,  1000. ,  1000. ,  1000. ,  1000. ,  1000. ,  1000. ,\n",
       "        1000. ,  1000. ,  1000. ,  1000. ,  1000. ,  1000. ,  1000. ,\n",
       "        1000. ,  1000. ,  1000. ,  1000. ,  1000. ,  1000. ,  1000. ,\n",
       "        1000. ,  1000. ,  1000. ,  1000. ,  1000. ,  1000. ,  1000. ])"
      ]
     },
     "execution_count": 2,
     "metadata": {},
     "output_type": "execute_result"
    }
   ],
   "source": [
    "import numpy as np\n",
    "te=np.loadtxt('inputhii_dummy.ovr')[:,1] #for T=40000 K\n",
    "te"
   ]
  },
  {
   "cell_type": "code",
   "execution_count": 6,
   "metadata": {},
   "outputs": [
    {
     "name": "stdout",
     "output_type": "stream",
     "text": [
      "The average is  5499.94\n"
     ]
    }
   ],
   "source": [
    "number_list = te\n",
    "avg = sum(number_list)/len(number_list)\n",
    "print(\"The average is \", round(avg,2))"
   ]
  },
  {
   "cell_type": "code",
   "execution_count": 7,
   "metadata": {},
   "outputs": [
    {
     "name": "stdout",
     "output_type": "stream",
     "text": [
      "The average is  4588.11\n"
     ]
    }
   ],
   "source": [
    "import numpy as np\n",
    "te=np.loadtxt('input_1hii_dummy.ovr')[:,1] #for T=30000 K\n",
    "number_list = te\n",
    "avg = sum(number_list)/len(number_list)\n",
    "print(\"The average is \", round(avg,2))"
   ]
  },
  {
   "cell_type": "code",
   "execution_count": 8,
   "metadata": {},
   "outputs": [
    {
     "name": "stdout",
     "output_type": "stream",
     "text": [
      "The average is  6314.9\n"
     ]
    }
   ],
   "source": [
    "import numpy as np\n",
    "te=np.loadtxt('input_2hii_dummy.ovr')[:,1] #for T=50000 K\n",
    "number_list = te\n",
    "avg = sum(number_list)/len(number_list)\n",
    "print(\"The average is \", round(avg,2))"
   ]
  },
  {
   "cell_type": "code",
   "execution_count": 10,
   "metadata": {},
   "outputs": [
    {
     "name": "stdout",
     "output_type": "stream",
     "text": [
      "The average is  7639.06\n"
     ]
    }
   ],
   "source": [
    "import numpy as np\n",
    "te=np.loadtxt('input_3hii_dummy.ovr')[:,1] #for T=60000 K\n",
    "number_list = te\n",
    "avg = sum(number_list)/len(number_list)\n",
    "print(\"The average is \", round(avg,2))"
   ]
  },
  {
   "cell_type": "code",
   "execution_count": null,
   "metadata": {},
   "outputs": [],
   "source": []
  }
 ],
 "metadata": {
  "kernelspec": {
   "display_name": "Python 3",
   "language": "python",
   "name": "python3"
  },
  "language_info": {
   "codemirror_mode": {
    "name": "ipython",
    "version": 3
   },
   "file_extension": ".py",
   "mimetype": "text/x-python",
   "name": "python",
   "nbconvert_exporter": "python",
   "pygments_lexer": "ipython3",
   "version": "3.7.7"
  }
 },
 "nbformat": 4,
 "nbformat_minor": 4
}
